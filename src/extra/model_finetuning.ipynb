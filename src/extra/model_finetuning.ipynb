{
 "cells": [
  {
   "cell_type": "markdown",
   "id": "26fcaa5e",
   "metadata": {},
   "source": [
    "# Desk Posture Nudge \n",
    "\n",
    "**Problem** \n",
    "\n",
    "We’ve all been there: rubbing our backs and wondering if it’s an injury or just too many minutes of bad posture. We’d rather prevent than fix. So we built a tiny on-device vision model that checks whether your posture is good enough and nudges you only when it really matters. If and only if you stay in bad posture for **N** seconds, it sends a gentle alert. Sit up straight, and it quietly resets.\n",
    "\n",
    "<p align=\"center\">\n",
    "  <img src=\"sitting-posture.webp\" alt=\"Sitting posture\" width=\"50%\">\n",
    "</p>"
   ]
  },
  {
   "cell_type": "markdown",
   "id": "fa417546",
   "metadata": {},
   "source": [
    "**Data:**\n",
    "- Source: [dataset link1](https://universe.roboflow.com/dataset-sqm0h/sitting-posture-ezkda), [link2](https://universe.roboflow.com/min-bnvzi/sitting-posture-v2)\n",
    "- Split: **70/30** (train/val), balanced datasets. \n",
    "\n",
    "**Dataset prep:**\n",
    "- **Auto-Orient:** applied so all images share the same upright orientation.\n",
    "\n",
    "- **Resize:** **Fit within 96×96** (no stretch)  \n",
    "\n",
    "- **Remap Classes:** \n",
    "  Merged granular variants into a single label.\n",
    "  - `backwardbadposture`, `forwardbadposture` → **badposture**\n",
    "  - `goodposture` \n",
    "\n",
    "\n",
    "**Model:**\n",
    "\n",
    "[FocoosAI](https://focoos.ai/) offers many pretrained classification models in different sizes, we tested: \n",
    "\n",
    "- fai-cls-n-coco  (nano, optimized for Arduino Nicla Vision) \n",
    "- fai-cls-s-coco  (small)\n",
    "- fai-cls-m-coco  (medium)."
   ]
  },
  {
   "cell_type": "code",
   "execution_count": null,
   "id": "c701c0cb",
   "metadata": {},
   "outputs": [],
   "source": [
    "# setup the environment\n",
    "# !uv venv --python=3.12\n",
    "# !source .venv/bin/activate\n",
    "!uv pip install 'focoos[onnx-cpu] @ git+https://github.com/FocoosAI/focoos@feat/train-on-AppleSilicon';"
   ]
  },
  {
   "cell_type": "code",
   "execution_count": null,
   "id": "58bf82c7",
   "metadata": {},
   "outputs": [],
   "source": [
    "import os\n",
    "from focoos.infer.quantizer import OnnxQuantizer, QuantizationCfg\n",
    "from focoos import ModelManager, RuntimeType, InferModel\n",
    "from dotenv import load_dotenv\n",
    "\n",
    "load_dotenv()\n",
    "IMAGE_SIZE = 96"
   ]
  },
  {
   "cell_type": "markdown",
   "id": "9b9e9d98",
   "metadata": {},
   "source": [
    "**Training recipe (safe defaults).**\n",
    "- Backbone: `fai-cls-n-coco`\n",
    "- Batch size: **16** (or 32 if available)\n",
    "- Optimizer: **AdamW**, weight decay **1e-4**\n",
    "- Square: 1.0"
   ]
  },
  {
   "cell_type": "code",
   "execution_count": null,
   "id": "f120cce6",
   "metadata": {
    "vscode": {
     "languageId": "shellscript"
    }
   },
   "outputs": [],
   "source": [
    "!bash -c 'focoos train --dataset sitting_posture_dataset.zip \\\n",
    "    --datasets-dir . \\\n",
    "    --dataset-layout cls_folder \\\n",
    "    --model fai-cls-s-coco \\\n",
    "    --im-size {IMAGE_SIZE} \\\n",
    "    --device mps'"
   ]
  },
  {
   "cell_type": "markdown",
   "id": "857e47ad",
   "metadata": {},
   "source": [
    "We exports **ONNX CPU** with fixed input size (`IMAGE_SIZE`), **static shape** (`dynamic_axes=False`), graph **simplification** (`simplify_onnx=True`), **opset 18**, to `export/my_hub_model/`."
   ]
  },
  {
   "cell_type": "code",
   "execution_count": null,
   "id": "a946b39e",
   "metadata": {},
   "outputs": [],
   "source": [
    "# hub = FocoosHUB(api_key=FOCOOS_API_KEY)\n",
    "model = ModelManager.get(\"fai-cls-m-coco-22d2fb83-7008-4475-9669-b48cedc76f8a\")\n",
    "\n",
    "exported_model = model.export(\n",
    "    runtime_type=RuntimeType.ONNX_CPU,\n",
    "    image_size=IMAGE_SIZE,\n",
    "    dynamic_axes=False,\n",
    "    simplify_onnx=True,  # simplify and optimize onnx model graph\n",
    "    onnx_opset=18,\n",
    "    out_dir=os.path.join(\"export/\", \"my_hub_model\"),\n",
    ")"
   ]
  },
  {
   "cell_type": "markdown",
   "id": "f05c1467",
   "metadata": {},
   "source": [
    "**Calibration images**\n",
    "\n",
    "We sampled the calibration set **from the validation split**, selecting ~30–40 images with a **good diversity** (both classes, different subjects, lighting, viewpoints, scales)."
   ]
  },
  {
   "cell_type": "code",
   "execution_count": null,
   "id": "e3894355",
   "metadata": {},
   "outputs": [],
   "source": [
    "quantization_cfg = QuantizationCfg(\n",
    "    size=IMAGE_SIZE,\n",
    "    calibration_images_folder=str(\n",
    "        \"calibration_images\",\n",
    "    ),\n",
    "    format=\"QO\",\n",
    "    per_channel=False,  # Per-channel quantization: each channel has its own scale/zero-point → more accurate,\n",
    "    # especially for convolutions, at the cost of extra memory and computation.\n",
    "    normalize_images=True,\n",
    ")\n",
    "\n",
    "quantizer = OnnxQuantizer(\n",
    "    input_model_path=exported_model.model_path, cfg=quantization_cfg\n",
    ")\n",
    "model_path = quantizer.quantize(\n",
    "    benchmark=True  # benchmark bot fp32 and int8 models\n",
    ")\n",
    "quantized_model = InferModel(model_path, runtime_type=RuntimeType.ONNX_CPU)"
   ]
  },
  {
   "cell_type": "code",
   "execution_count": null,
   "id": "f3c32de6",
   "metadata": {},
   "outputs": [],
   "source": [
    "path_val = \"sitting_posture_dataset/valid/goodposture\"\n",
    "supported = (\".jpg\", \".jpeg\", \".png\", \".webp\", \".gif\")\n",
    "\n",
    "good = bad = total = 0\n",
    "\n",
    "for name in sorted(os.listdir(path_val)):\n",
    "    if not name.lower().endswith(supported):\n",
    "        continue\n",
    "    full_path = os.path.join(path_val, name)\n",
    "    out = quantized_model.infer(image=full_path)\n",
    "\n",
    "    for det in getattr(out, \"detections\", []):\n",
    "        total += 1\n",
    "        if det.label == \"badposture\":\n",
    "            bad += 1\n",
    "        else:\n",
    "            good += 1\n",
    "\n",
    "print(f\"total={total}  bad={bad}  good={good}\")"
   ]
  },
  {
   "cell_type": "markdown",
   "id": "02a5ed14",
   "metadata": {},
   "source": [
    "**Possible deployment ideas (on device).**\n",
    "- **Confidence gate** (e.g., `p_max < 0.6` -> ignore frame).\n",
    "- **Timer N** seconds before triggering the nudge (LED/Buzzer/Serial).\n",
    "- Reset timer when posture returns to **Good**."
   ]
  }
 ],
 "metadata": {
  "kernelspec": {
   "display_name": "foocos (3.12.10)",
   "language": "python",
   "name": "python3"
  },
  "language_info": {
   "codemirror_mode": {
    "name": "ipython",
    "version": 3
   },
   "file_extension": ".py",
   "mimetype": "text/x-python",
   "name": "python",
   "nbconvert_exporter": "python",
   "pygments_lexer": "ipython3",
   "version": "3.12.10"
  }
 },
 "nbformat": 4,
 "nbformat_minor": 5
}
